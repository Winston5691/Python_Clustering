{
 "cells": [
  {
   "cell_type": "markdown",
   "id": "57c68dff-e8a8-4cbe-a6d0-eba92f049fc4",
   "metadata": {},
   "source": [
    "Project: Customer segmentation Using K-Means Clustering with Python"
   ]
  },
  {
   "cell_type": "markdown",
   "id": "d2f566c4-8013-4850-8d5f-ad9ebafc05bf",
   "metadata": {},
   "source": [
    "This project involves building an algorithm that clusters customers of a shopping mall into different groups. It uses the theory of classification regression problems."
   ]
  },
  {
   "cell_type": "markdown",
   "id": "2de796c3-ce98-4d1b-9dc3-cdf95a282cd4",
   "metadata": {},
   "source": [
    "It involves customer data, data pre-processing and data analysis. The optmum number of clusters is obtained in data analysis using sum of squares. The K-means algorithom groups the data depending on the algorithm. The cluster of the data has also been visualized."
   ]
  },
  {
   "cell_type": "markdown",
   "id": "97aeaaf1-dd3d-4e57-9ce9-59614141d539",
   "metadata": {},
   "source": [
    "importing the Dependencies"
   ]
  },
  {
   "cell_type": "code",
   "execution_count": 40,
   "id": "74fb3257-159e-4a5f-9fed-9c70fee05286",
   "metadata": {},
   "outputs": [],
   "source": [
    "import numpy as np\n",
    "import pandas as pd\n",
    "import matplotlib.pyplot as plt\n",
    "import seaborn as sns\n",
    "import warnings\n",
    "warnings.filterwarnings('ignore')\n",
    "from sklearn.cluster import KMeans"
   ]
  },
  {
   "cell_type": "markdown",
   "id": "7e45ffd4-281e-49b3-b66d-beaf36abd538",
   "metadata": {},
   "source": [
    "Data Handling"
   ]
  },
  {
   "cell_type": "markdown",
   "id": "607b36f7-ec14-4496-8467-4a40881dbe8f",
   "metadata": {},
   "source": [
    "Calling the data"
   ]
  },
  {
   "cell_type": "code",
   "execution_count": 42,
   "id": "a8754743-485e-4263-b9b7-64ef2bfd2875",
   "metadata": {},
   "outputs": [],
   "source": [
    "Customers_data = pd.read_csv('Downloads/archive (7)/Mall_Customers.csv')"
   ]
  },
  {
   "cell_type": "markdown",
   "id": "395b2f15-a5e6-4b8c-808e-0260ffcb3793",
   "metadata": {},
   "source": [
    "Viewing the first 10 rows in the data"
   ]
  },
  {
   "cell_type": "code",
   "execution_count": 6,
   "id": "85442112-e278-439a-9e57-9c31237e1d57",
   "metadata": {},
   "outputs": [
    {
     "data": {
      "text/html": [
       "<div>\n",
       "<style scoped>\n",
       "    .dataframe tbody tr th:only-of-type {\n",
       "        vertical-align: middle;\n",
       "    }\n",
       "\n",
       "    .dataframe tbody tr th {\n",
       "        vertical-align: top;\n",
       "    }\n",
       "\n",
       "    .dataframe thead th {\n",
       "        text-align: right;\n",
       "    }\n",
       "</style>\n",
       "<table border=\"1\" class=\"dataframe\">\n",
       "  <thead>\n",
       "    <tr style=\"text-align: right;\">\n",
       "      <th></th>\n",
       "      <th>CustomerID</th>\n",
       "      <th>Gender</th>\n",
       "      <th>Age</th>\n",
       "      <th>Annual Income (k$)</th>\n",
       "      <th>Spending Score (1-100)</th>\n",
       "    </tr>\n",
       "  </thead>\n",
       "  <tbody>\n",
       "    <tr>\n",
       "      <th>0</th>\n",
       "      <td>1</td>\n",
       "      <td>Male</td>\n",
       "      <td>19</td>\n",
       "      <td>15</td>\n",
       "      <td>39</td>\n",
       "    </tr>\n",
       "    <tr>\n",
       "      <th>1</th>\n",
       "      <td>2</td>\n",
       "      <td>Male</td>\n",
       "      <td>21</td>\n",
       "      <td>15</td>\n",
       "      <td>81</td>\n",
       "    </tr>\n",
       "    <tr>\n",
       "      <th>2</th>\n",
       "      <td>3</td>\n",
       "      <td>Female</td>\n",
       "      <td>20</td>\n",
       "      <td>16</td>\n",
       "      <td>6</td>\n",
       "    </tr>\n",
       "    <tr>\n",
       "      <th>3</th>\n",
       "      <td>4</td>\n",
       "      <td>Female</td>\n",
       "      <td>23</td>\n",
       "      <td>16</td>\n",
       "      <td>77</td>\n",
       "    </tr>\n",
       "    <tr>\n",
       "      <th>4</th>\n",
       "      <td>5</td>\n",
       "      <td>Female</td>\n",
       "      <td>31</td>\n",
       "      <td>17</td>\n",
       "      <td>40</td>\n",
       "    </tr>\n",
       "    <tr>\n",
       "      <th>5</th>\n",
       "      <td>6</td>\n",
       "      <td>Female</td>\n",
       "      <td>22</td>\n",
       "      <td>17</td>\n",
       "      <td>76</td>\n",
       "    </tr>\n",
       "    <tr>\n",
       "      <th>6</th>\n",
       "      <td>7</td>\n",
       "      <td>Female</td>\n",
       "      <td>35</td>\n",
       "      <td>18</td>\n",
       "      <td>6</td>\n",
       "    </tr>\n",
       "    <tr>\n",
       "      <th>7</th>\n",
       "      <td>8</td>\n",
       "      <td>Female</td>\n",
       "      <td>23</td>\n",
       "      <td>18</td>\n",
       "      <td>94</td>\n",
       "    </tr>\n",
       "    <tr>\n",
       "      <th>8</th>\n",
       "      <td>9</td>\n",
       "      <td>Male</td>\n",
       "      <td>64</td>\n",
       "      <td>19</td>\n",
       "      <td>3</td>\n",
       "    </tr>\n",
       "    <tr>\n",
       "      <th>9</th>\n",
       "      <td>10</td>\n",
       "      <td>Female</td>\n",
       "      <td>30</td>\n",
       "      <td>19</td>\n",
       "      <td>72</td>\n",
       "    </tr>\n",
       "  </tbody>\n",
       "</table>\n",
       "</div>"
      ],
      "text/plain": [
       "   CustomerID  Gender  Age  Annual Income (k$)  Spending Score (1-100)\n",
       "0           1    Male   19                  15                      39\n",
       "1           2    Male   21                  15                      81\n",
       "2           3  Female   20                  16                       6\n",
       "3           4  Female   23                  16                      77\n",
       "4           5  Female   31                  17                      40\n",
       "5           6  Female   22                  17                      76\n",
       "6           7  Female   35                  18                       6\n",
       "7           8  Female   23                  18                      94\n",
       "8           9    Male   64                  19                       3\n",
       "9          10  Female   30                  19                      72"
      ]
     },
     "execution_count": 6,
     "metadata": {},
     "output_type": "execute_result"
    }
   ],
   "source": [
    "Customers_data.head(10)"
   ]
  },
  {
   "cell_type": "markdown",
   "id": "ad1b9916-153b-41e7-9382-9d4a19fed5b5",
   "metadata": {},
   "source": [
    "Showing the distribution of the data basing on the number of rows and columns.\n",
    "On running the code below, the output is (200, 5) meaning that the data has 5 variables (comuns) and 200 observations in each variable (rows). Customers_data.shape"
   ]
  },
  {
   "cell_type": "markdown",
   "id": "d6b61a39-e5c4-4ff4-b6fc-42721dfd194c",
   "metadata": {},
   "source": [
    "Obtaining more information on the data"
   ]
  },
  {
   "cell_type": "markdown",
   "id": "9123e935-c890-448f-90cc-bd27ab59d2a6",
   "metadata": {},
   "source": [
    "On running the code below, the output shows the distribution of the data basing on the occurrences of each observation of each variable and also the type of the value (observation). "
   ]
  },
  {
   "cell_type": "code",
   "execution_count": 8,
   "id": "98e29992-6336-4d89-8d53-0cedc789f7e7",
   "metadata": {},
   "outputs": [
    {
     "name": "stdout",
     "output_type": "stream",
     "text": [
      "<class 'pandas.core.frame.DataFrame'>\n",
      "RangeIndex: 200 entries, 0 to 199\n",
      "Data columns (total 5 columns):\n",
      " #   Column                  Non-Null Count  Dtype \n",
      "---  ------                  --------------  ----- \n",
      " 0   CustomerID              200 non-null    int64 \n",
      " 1   Gender                  200 non-null    object\n",
      " 2   Age                     200 non-null    int64 \n",
      " 3   Annual Income (k$)      200 non-null    int64 \n",
      " 4   Spending Score (1-100)  200 non-null    int64 \n",
      "dtypes: int64(4), object(1)\n",
      "memory usage: 7.9+ KB\n"
     ]
    }
   ],
   "source": [
    "Customers_data.info()"
   ]
  },
  {
   "cell_type": "markdown",
   "id": "1c9c427e-57f6-4d4c-bf27-d308258d47db",
   "metadata": {},
   "source": [
    "Checking for the missing values"
   ]
  },
  {
   "cell_type": "code",
   "execution_count": 14,
   "id": "edd5ac2f-fdc3-43c1-9c04-9997820c2509",
   "metadata": {},
   "outputs": [
    {
     "data": {
      "text/plain": [
       "CustomerID                0\n",
       "Gender                    0\n",
       "Age                       0\n",
       "Annual Income (k$)        0\n",
       "Spending Score (1-100)    0\n",
       "dtype: int64"
      ]
     },
     "execution_count": 14,
     "metadata": {},
     "output_type": "execute_result"
    }
   ],
   "source": [
    "Customers_data.isnull().sum()"
   ]
  },
  {
   "cell_type": "markdown",
   "id": "40c08586-c293-4f7e-971b-3c8dddeec485",
   "metadata": {},
   "source": [
    "Data sorting"
   ]
  },
  {
   "cell_type": "markdown",
   "id": "09eeda62-a395-45c2-beb1-47e3e21dfc35",
   "metadata": {},
   "source": [
    "Choosing the annual income and spending score columns from the data then assigning them to \"P\""
   ]
  },
  {
   "cell_type": "code",
   "execution_count": 16,
   "id": "9e332027-b4a6-46b3-a807-40bcbd90198c",
   "metadata": {
    "tags": []
   },
   "outputs": [
    {
     "name": "stdout",
     "output_type": "stream",
     "text": [
      "[[ 15  39]\n",
      " [ 15  81]\n",
      " [ 16   6]\n",
      " [ 16  77]\n",
      " [ 17  40]\n",
      " [ 17  76]\n",
      " [ 18   6]\n",
      " [ 18  94]\n",
      " [ 19   3]\n",
      " [ 19  72]\n",
      " [ 19  14]\n",
      " [ 19  99]\n",
      " [ 20  15]\n",
      " [ 20  77]\n",
      " [ 20  13]\n",
      " [ 20  79]\n",
      " [ 21  35]\n",
      " [ 21  66]\n",
      " [ 23  29]\n",
      " [ 23  98]\n",
      " [ 24  35]\n",
      " [ 24  73]\n",
      " [ 25   5]\n",
      " [ 25  73]\n",
      " [ 28  14]\n",
      " [ 28  82]\n",
      " [ 28  32]\n",
      " [ 28  61]\n",
      " [ 29  31]\n",
      " [ 29  87]\n",
      " [ 30   4]\n",
      " [ 30  73]\n",
      " [ 33   4]\n",
      " [ 33  92]\n",
      " [ 33  14]\n",
      " [ 33  81]\n",
      " [ 34  17]\n",
      " [ 34  73]\n",
      " [ 37  26]\n",
      " [ 37  75]\n",
      " [ 38  35]\n",
      " [ 38  92]\n",
      " [ 39  36]\n",
      " [ 39  61]\n",
      " [ 39  28]\n",
      " [ 39  65]\n",
      " [ 40  55]\n",
      " [ 40  47]\n",
      " [ 40  42]\n",
      " [ 40  42]\n",
      " [ 42  52]\n",
      " [ 42  60]\n",
      " [ 43  54]\n",
      " [ 43  60]\n",
      " [ 43  45]\n",
      " [ 43  41]\n",
      " [ 44  50]\n",
      " [ 44  46]\n",
      " [ 46  51]\n",
      " [ 46  46]\n",
      " [ 46  56]\n",
      " [ 46  55]\n",
      " [ 47  52]\n",
      " [ 47  59]\n",
      " [ 48  51]\n",
      " [ 48  59]\n",
      " [ 48  50]\n",
      " [ 48  48]\n",
      " [ 48  59]\n",
      " [ 48  47]\n",
      " [ 49  55]\n",
      " [ 49  42]\n",
      " [ 50  49]\n",
      " [ 50  56]\n",
      " [ 54  47]\n",
      " [ 54  54]\n",
      " [ 54  53]\n",
      " [ 54  48]\n",
      " [ 54  52]\n",
      " [ 54  42]\n",
      " [ 54  51]\n",
      " [ 54  55]\n",
      " [ 54  41]\n",
      " [ 54  44]\n",
      " [ 54  57]\n",
      " [ 54  46]\n",
      " [ 57  58]\n",
      " [ 57  55]\n",
      " [ 58  60]\n",
      " [ 58  46]\n",
      " [ 59  55]\n",
      " [ 59  41]\n",
      " [ 60  49]\n",
      " [ 60  40]\n",
      " [ 60  42]\n",
      " [ 60  52]\n",
      " [ 60  47]\n",
      " [ 60  50]\n",
      " [ 61  42]\n",
      " [ 61  49]\n",
      " [ 62  41]\n",
      " [ 62  48]\n",
      " [ 62  59]\n",
      " [ 62  55]\n",
      " [ 62  56]\n",
      " [ 62  42]\n",
      " [ 63  50]\n",
      " [ 63  46]\n",
      " [ 63  43]\n",
      " [ 63  48]\n",
      " [ 63  52]\n",
      " [ 63  54]\n",
      " [ 64  42]\n",
      " [ 64  46]\n",
      " [ 65  48]\n",
      " [ 65  50]\n",
      " [ 65  43]\n",
      " [ 65  59]\n",
      " [ 67  43]\n",
      " [ 67  57]\n",
      " [ 67  56]\n",
      " [ 67  40]\n",
      " [ 69  58]\n",
      " [ 69  91]\n",
      " [ 70  29]\n",
      " [ 70  77]\n",
      " [ 71  35]\n",
      " [ 71  95]\n",
      " [ 71  11]\n",
      " [ 71  75]\n",
      " [ 71   9]\n",
      " [ 71  75]\n",
      " [ 72  34]\n",
      " [ 72  71]\n",
      " [ 73   5]\n",
      " [ 73  88]\n",
      " [ 73   7]\n",
      " [ 73  73]\n",
      " [ 74  10]\n",
      " [ 74  72]\n",
      " [ 75   5]\n",
      " [ 75  93]\n",
      " [ 76  40]\n",
      " [ 76  87]\n",
      " [ 77  12]\n",
      " [ 77  97]\n",
      " [ 77  36]\n",
      " [ 77  74]\n",
      " [ 78  22]\n",
      " [ 78  90]\n",
      " [ 78  17]\n",
      " [ 78  88]\n",
      " [ 78  20]\n",
      " [ 78  76]\n",
      " [ 78  16]\n",
      " [ 78  89]\n",
      " [ 78   1]\n",
      " [ 78  78]\n",
      " [ 78   1]\n",
      " [ 78  73]\n",
      " [ 79  35]\n",
      " [ 79  83]\n",
      " [ 81   5]\n",
      " [ 81  93]\n",
      " [ 85  26]\n",
      " [ 85  75]\n",
      " [ 86  20]\n",
      " [ 86  95]\n",
      " [ 87  27]\n",
      " [ 87  63]\n",
      " [ 87  13]\n",
      " [ 87  75]\n",
      " [ 87  10]\n",
      " [ 87  92]\n",
      " [ 88  13]\n",
      " [ 88  86]\n",
      " [ 88  15]\n",
      " [ 88  69]\n",
      " [ 93  14]\n",
      " [ 93  90]\n",
      " [ 97  32]\n",
      " [ 97  86]\n",
      " [ 98  15]\n",
      " [ 98  88]\n",
      " [ 99  39]\n",
      " [ 99  97]\n",
      " [101  24]\n",
      " [101  68]\n",
      " [103  17]\n",
      " [103  85]\n",
      " [103  23]\n",
      " [103  69]\n",
      " [113   8]\n",
      " [113  91]\n",
      " [120  16]\n",
      " [120  79]\n",
      " [126  28]\n",
      " [126  74]\n",
      " [137  18]\n",
      " [137  83]]\n"
     ]
    }
   ],
   "source": [
    "P = Customers_data.iloc[:,[3,4]].values\n",
    "print(P)"
   ]
  },
  {
   "cell_type": "markdown",
   "id": "041d8378-63d1-4809-bd88-73478bf5b4fa",
   "metadata": {},
   "source": [
    "Choosing the number of clusters. For this data, I have chosen to cluster using sum of squares, so I will use within clusters sum of squares."
   ]
  },
  {
   "cell_type": "markdown",
   "id": "d3b8ad4b-337c-4439-81b0-28fc8bbb77e0",
   "metadata": {},
   "source": [
    "Finding the within clusters sum of squares for the different number of clusters."
   ]
  },
  {
   "cell_type": "code",
   "execution_count": 35,
   "id": "4f416be7-15fa-4216-8471-ff2b6bf61fd6",
   "metadata": {},
   "outputs": [],
   "source": [
    "wcss = []\n",
    "\n",
    "for i in range(1, 11):\n",
    "    kmeans = KMeans(n_clusters=i, init='k-means++', random_state=42)\n",
    "    kmeans.fit(P)\n",
    "    wcss.append(kmeans.inertia_)"
   ]
  },
  {
   "cell_type": "markdown",
   "id": "df84bed1-7b09-43b6-a2e0-b6b79b7aa2c5",
   "metadata": {},
   "source": [
    "Plotting an elbow graph"
   ]
  },
  {
   "cell_type": "code",
   "execution_count": 39,
   "id": "495f00f6-63ec-46d7-93db-73b06264e907",
   "metadata": {},
   "outputs": [
    {
     "data": {
      "image/png": "[encoded data removed]",
      "text/plain": [
       "<Figure size 432x288 with 1 Axes>"
      ]
     },
     "metadata": {},
     "output_type": "display_data"
    }
   ],
   "source": [
    "sns.set()\n",
    "plt.plot(range(1,11), wcss)\n",
    "plt.title('Elbow Point Graph')\n",
    "plt.xlabel('Number of Clusters')\n",
    "plt.ylabel('within clusters sum of squares')\n",
    "plt.show()"
   ]
  },
  {
   "cell_type": "markdown",
   "id": "368935bd-9088-49ab-8717-850d71a5b22b",
   "metadata": {},
   "source": [
    "On plotting the graoh, the cluster is found to be 5= 0,1,2,3,4"
   ]
  },
  {
   "cell_type": "markdown",
   "id": "14b2b1e6-ecc6-4ed0-ba28-68638bcad2dc",
   "metadata": {},
   "source": [
    "Training the k=Means Clustering Model"
   ]
  },
  {
   "cell_type": "code",
   "execution_count": 45,
   "id": "500024ed-2938-4c10-a7d1-f2d14cd18b17",
   "metadata": {},
   "outputs": [
    {
     "name": "stdout",
     "output_type": "stream",
     "text": [
      "[4 3 4 3 4 3 4 3 4 3 4 3 4 3 4 3 4 3 4 3 4 3 4 3 4 3 4 3 4 3 4 3 4 3 4 3 4\n",
      " 3 4 3 4 3 4 1 4 3 1 1 1 1 1 1 1 1 1 1 1 1 1 1 1 1 1 1 1 1 1 1 1 1 1 1 1 1\n",
      " 1 1 1 1 1 1 1 1 1 1 1 1 1 1 1 1 1 1 1 1 1 1 1 1 1 1 1 1 1 1 1 1 1 1 1 1 1\n",
      " 1 1 1 1 1 1 1 1 1 1 1 1 2 0 2 1 2 0 2 0 2 1 2 0 2 0 2 0 2 0 2 1 2 0 2 0 2\n",
      " 0 2 0 2 0 2 0 2 0 2 0 2 0 2 0 2 0 2 0 2 0 2 0 2 0 2 0 2 0 2 0 2 0 2 0 2 0\n",
      " 2 0 2 0 2 0 2 0 2 0 2 0 2 0 2]\n"
     ]
    }
   ],
   "source": [
    "kmeans =KMeans(n_clusters=5, init='k-means++', random_state=0)\n",
    "\n",
    "#To return the label for each data point basing on the cluster\n",
    "X = kmeans.fit_predict(P)\n",
    "\n",
    "print (X)"
   ]
  },
  {
   "cell_type": "markdown",
   "id": "e4b189f5-bab6-420e-b92a-21f5b723071e",
   "metadata": {},
   "source": [
    "Visulizing the Ckusters"
   ]
  },
  {
   "cell_type": "code",
   "execution_count": 48,
   "id": "88c32250-914d-4e56-9f2f-8a8dc352f263",
   "metadata": {},
   "outputs": [
    {
     "data": {
      "image/png": "[encoded data removed]",
      "text/plain": [
       "<Figure size 576x576 with 1 Axes>"
      ]
     },
     "metadata": {},
     "output_type": "display_data"
    }
   ],
   "source": [
    "# Plotting all the clusetrs and the Centroids\n",
    "plt.figure(figsize=(8,8))\n",
    "plt.scatter(P[X==0,0], P[X==0,1], s=50, c='red', label='First Cluster')\n",
    "plt.scatter(P[X==1,0], P[X==1,1], s=50, c='green', label='Second Cluster')\n",
    "plt.scatter(P[X==2,0], P[X==2,1], s=50, c='yellow', label='Third Cluster')\n",
    "plt.scatter(P[X==3,0], P[X==3,1], s=50, c='violet', label='Fourth Cluster')\n",
    "plt.scatter(P[X==4,0], P[X==4,1], s=50, c='blue', label='Fifth Cluster')\n",
    "\n",
    "#Plotting the centroids\n",
    "plt.scatter(kmeans.cluster_centers_[:,0], kmeans.cluster_centers_[:,1], s=100, c='cyan', label='Centroids')\n",
    "plt.title('Customer Groups')\n",
    "plt.xlabel('Annual Income')\n",
    "plt.ylabel('Spending Score')\n",
    "plt.show()"
   ]
  },
  {
   "cell_type": "markdown",
   "id": "b83f4130-315b-47b6-8ffc-1fa9a1fe50b4",
   "metadata": {},
   "source": [
    "The plot shows the distribution of the rates of consumption based on the amount of income for the customers."
   ]
  }
 ],
 "metadata": {
  "kernelspec": {
   "display_name": "Python 3 (ipykernel)",
   "language": "python",
   "name": "python3"
  },
  "language_info": {
   "codemirror_mode": {
    "name": "ipython",
    "version": 3
   },
   "file_extension": ".py",
   "mimetype": "text/x-python",
   "name": "python",
   "nbconvert_exporter": "python",
   "pygments_lexer": "ipython3",
   "version": "3.9.7"
  }
 },
 "nbformat": 4,
 "nbformat_minor": 5
}
